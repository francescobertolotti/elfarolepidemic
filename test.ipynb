{
 "cells": [
  {
   "cell_type": "code",
   "execution_count": 1,
   "metadata": {},
   "outputs": [],
   "source": [
    "from model.parameters import *\n",
    "from model.global_vars import *\n",
    "from model.person import *\n",
    "from model.setup import *\n",
    "from model.go import *\n",
    "from model.conclusion import *\n",
    "from model.MODEL import *"
   ]
  },
  {
   "cell_type": "code",
   "execution_count": 7,
   "metadata": {},
   "outputs": [
    {
     "ename": "AttributeError",
     "evalue": "'Person' object has no attribute 'agentSIR'",
     "output_type": "error",
     "traceback": [
      "\u001b[0;31m---------------------------------------------------------------------------\u001b[0m",
      "\u001b[0;31mAttributeError\u001b[0m                            Traceback (most recent call last)",
      "\u001b[1;32m/Users/janalopi/Library/Mobile Documents/com~apple~CloudDocs/Python/MESA/Modelli Kadera-Pasquino/El Farol Epidemiologico/2023-10-16 Bertolotti/test.ipynb Cell 2\u001b[0m line \u001b[0;36m4\n\u001b[1;32m      <a href='vscode-notebook-cell:/Users/janalopi/Library/Mobile%20Documents/com~apple~CloudDocs/Python/MESA/Modelli%20Kadera-Pasquino/El%20Farol%20Epidemiologico/2023-10-16%20Bertolotti/test.ipynb#W1sZmlsZQ%3D%3D?line=0'>1</a>\u001b[0m seed \u001b[39m=\u001b[39m \u001b[39m1101\u001b[39m\n\u001b[1;32m      <a href='vscode-notebook-cell:/Users/janalopi/Library/Mobile%20Documents/com~apple~CloudDocs/Python/MESA/Modelli%20Kadera-Pasquino/El%20Farol%20Epidemiologico/2023-10-16%20Bertolotti/test.ipynb#W1sZmlsZQ%3D%3D?line=2'>3</a>\u001b[0m mod \u001b[39m=\u001b[39m model(seed)\n\u001b[0;32m----> <a href='vscode-notebook-cell:/Users/janalopi/Library/Mobile%20Documents/com~apple~CloudDocs/Python/MESA/Modelli%20Kadera-Pasquino/El%20Farol%20Epidemiologico/2023-10-16%20Bertolotti/test.ipynb#W1sZmlsZQ%3D%3D?line=3'>4</a>\u001b[0m mod\u001b[39m.\u001b[39;49mrun(seed)\n",
      "File \u001b[0;32m~/Library/Mobile Documents/com~apple~CloudDocs/Python/MESA/Modelli Kadera-Pasquino/El Farol Epidemiologico/2023-10-16 Bertolotti/model/MODEL.py:32\u001b[0m, in \u001b[0;36mmodel.run\u001b[0;34m(self, my_seed)\u001b[0m\n\u001b[1;32m     30\u001b[0m \u001b[39mdef\u001b[39;00m \u001b[39mrun\u001b[39m(\u001b[39mself\u001b[39m, my_seed):\n\u001b[0;32m---> 32\u001b[0m     np\u001b[39m.\u001b[39mrandom\u001b[39m.\u001b[39mseed(seed\u001b[39m=\u001b[39mmy_seed)\n\u001b[1;32m     33\u001b[0m     random\u001b[39m.\u001b[39mseed(my_seed)\n\u001b[1;32m     34\u001b[0m     setup(\u001b[39mself\u001b[39m\u001b[39m.\u001b[39mpar, \u001b[39mself\u001b[39m\u001b[39m.\u001b[39mgv, \u001b[39mself\u001b[39m\u001b[39m.\u001b[39mal)\n",
      "File \u001b[0;32m~/Library/Mobile Documents/com~apple~CloudDocs/Python/MESA/Modelli Kadera-Pasquino/El Farol Epidemiologico/2023-10-16 Bertolotti/model/setup.py:10\u001b[0m, in \u001b[0;36msetup\u001b[0;34m(par, gv, al)\u001b[0m\n\u001b[1;32m      8\u001b[0m new_person \u001b[39m=\u001b[39m Person()\n\u001b[1;32m      9\u001b[0m \u001b[39mif\u001b[39;00m (i \u001b[39m+\u001b[39m \u001b[39m1\u001b[39m) \u001b[39m<\u001b[39m\u001b[39m=\u001b[39m par\u001b[39m.\u001b[39mnum_contagious_persons: \n\u001b[0;32m---> 10\u001b[0m     new_person\u001b[39m.\u001b[39;49minitiateContagius(par, gv)\n\u001b[1;32m     11\u001b[0m al\u001b[39m.\u001b[39mpersons_list\u001b[39m.\u001b[39mappend(new_person)\n",
      "File \u001b[0;32m~/Library/Mobile Documents/com~apple~CloudDocs/Python/MESA/Modelli Kadera-Pasquino/El Farol Epidemiologico/2023-10-16 Bertolotti/model/person.py:55\u001b[0m, in \u001b[0;36mPerson.initiateContagius\u001b[0;34m(self, par, gv)\u001b[0m\n\u001b[1;32m     53\u001b[0m contagiousTime \u001b[39m=\u001b[39m par\u001b[39m.\u001b[39mcontagious_duration\n\u001b[1;32m     54\u001b[0m infectionStartingWeek \u001b[39m=\u001b[39m gv\u001b[39m.\u001b[39mt\n\u001b[0;32m---> 55\u001b[0m \u001b[39mif\u001b[39;00m \u001b[39mself\u001b[39;49m\u001b[39m.\u001b[39;49magentSIR:\n\u001b[1;32m     56\u001b[0m     \u001b[39mif\u001b[39;00m \u001b[39mself\u001b[39m\u001b[39m.\u001b[39mconsiderSirTime:\n\u001b[1;32m     57\u001b[0m         \u001b[39mif\u001b[39;00m infectionStartingWeek \u001b[39m>\u001b[39m\u001b[39m=\u001b[39m \u001b[39mself\u001b[39m\u001b[39m.\u001b[39mSIRWillStopAt:\n",
      "\u001b[0;31mAttributeError\u001b[0m: 'Person' object has no attribute 'agentSIR'"
     ]
    }
   ],
   "source": [
    "seed = 1101\n",
    "\n",
    "mod = model(seed)\n",
    "mod.run(seed)\n"
   ]
  },
  {
   "cell_type": "code",
   "execution_count": null,
   "metadata": {},
   "outputs": [],
   "source": []
  }
 ],
 "metadata": {
  "kernelspec": {
   "display_name": "Python 3",
   "language": "python",
   "name": "python3"
  },
  "language_info": {
   "codemirror_mode": {
    "name": "ipython",
    "version": 3
   },
   "file_extension": ".py",
   "mimetype": "text/x-python",
   "name": "python",
   "nbconvert_exporter": "python",
   "pygments_lexer": "ipython3",
   "version": "3.11.3"
  }
 },
 "nbformat": 4,
 "nbformat_minor": 2
}
