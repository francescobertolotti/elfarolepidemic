{
 "cells": [
  {
   "cell_type": "code",
   "execution_count": 15,
   "metadata": {},
   "outputs": [],
   "source": [
    "from model.parameters import *\n",
    "from model.global_vars import *\n",
    "from model.person import *\n",
    "from model.setup import *\n",
    "from model.go import *\n",
    "from model.conclusion import *\n",
    "from model.MODEL import *"
   ]
  },
  {
   "cell_type": "code",
   "execution_count": 16,
   "metadata": {},
   "outputs": [
    {
     "name": "stdout",
     "output_type": "stream",
     "text": [
      "Error memory arr day:0 agent:92\n",
      "Error memory arr day:0 agent:93\n",
      "Error memory arr day:0 agent:94\n",
      "Error memory arr day:0 agent:95\n",
      "Error memory arr day:0 agent:96\n",
      "Error memory arr day:0 agent:97\n",
      "Error memory arr day:0 agent:98\n",
      "Error memory arr day:0 agent:99\n",
      "Error memory arr day:0 agent:100\n"
     ]
    },
    {
     "data": {
      "text/plain": [
       "<model.global_vars.glob_vars at 0x10a778c50>"
      ]
     },
     "execution_count": 16,
     "metadata": {},
     "output_type": "execute_result"
    }
   ],
   "source": [
    "seed = 1101\n",
    "\n",
    "mod = model(seed)\n",
    "mod.run(seed)\n"
   ]
  },
  {
   "cell_type": "code",
   "execution_count": null,
   "metadata": {},
   "outputs": [],
   "source": []
  }
 ],
 "metadata": {
  "kernelspec": {
   "display_name": "Python 3",
   "language": "python",
   "name": "python3"
  },
  "language_info": {
   "codemirror_mode": {
    "name": "ipython",
    "version": 3
   },
   "file_extension": ".py",
   "mimetype": "text/x-python",
   "name": "python",
   "nbconvert_exporter": "python",
   "pygments_lexer": "ipython3",
   "version": "3.11.3"
  }
 },
 "nbformat": 4,
 "nbformat_minor": 2
}
