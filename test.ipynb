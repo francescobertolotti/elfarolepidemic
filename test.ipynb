{
 "cells": [
  {
   "cell_type": "code",
   "execution_count": 1,
   "metadata": {},
   "outputs": [],
   "source": [
    "from model.parameters import *\n",
    "from model.global_vars import *\n",
    "from model.person import *\n",
    "from model.setup import *\n",
    "from model.go import *\n",
    "from model.conclusion import *\n",
    "from model.MODEL import *"
   ]
  },
  {
   "cell_type": "code",
   "execution_count": 2,
   "metadata": {},
   "outputs": [
    {
     "name": "stderr",
     "output_type": "stream",
     "text": [
      "/Users/niccolokadera/Library/CloudStorage/OneDrive-UNIVERSITA'CARLOCATTANEO-LIUC/One Drive (Notability e Università)/File Office condivisi online/El Farol/Contagi V2/elfarolepidemic Live Github/model/person.py:39: RuntimeWarning: divide by zero encountered in scalar divide\n",
      "  general_weight = (1 - np.sum(par.people_memory_weight_arr)) / (len(self.person_memory) - len(par.people_memory_weight_arr))\n"
     ]
    },
    {
     "ename": "TypeError",
     "evalue": "object of type 'glob_vars' has no len()",
     "output_type": "error",
     "traceback": [
      "\u001b[0;31m---------------------------------------------------------------------------\u001b[0m",
      "\u001b[0;31mTypeError\u001b[0m                                 Traceback (most recent call last)",
      "\u001b[1;32m/Users/niccolokadera/Library/CloudStorage/OneDrive-UNIVERSITA'CARLOCATTANEO-LIUC/One Drive (Notability e Università)/File Office condivisi online/El Farol/Contagi V2/elfarolepidemic Live Github/test.ipynb Cella 2\u001b[0m line \u001b[0;36m4\n\u001b[1;32m      <a href='vscode-notebook-cell:/Users/niccolokadera/Library/CloudStorage/OneDrive-UNIVERSITA%27CARLOCATTANEO-LIUC/One%20Drive%20%28Notability%20e%20Universita%CC%80%29/File%20Office%20condivisi%20online/El%20Farol/Contagi%20V2/elfarolepidemic%20Live%20Github/test.ipynb#W1sZmlsZQ%3D%3D?line=0'>1</a>\u001b[0m seed \u001b[39m=\u001b[39m \u001b[39m1101\u001b[39m\n\u001b[1;32m      <a href='vscode-notebook-cell:/Users/niccolokadera/Library/CloudStorage/OneDrive-UNIVERSITA%27CARLOCATTANEO-LIUC/One%20Drive%20%28Notability%20e%20Universita%CC%80%29/File%20Office%20condivisi%20online/El%20Farol/Contagi%20V2/elfarolepidemic%20Live%20Github/test.ipynb#W1sZmlsZQ%3D%3D?line=2'>3</a>\u001b[0m mod \u001b[39m=\u001b[39m model(seed)\n\u001b[0;32m----> <a href='vscode-notebook-cell:/Users/niccolokadera/Library/CloudStorage/OneDrive-UNIVERSITA%27CARLOCATTANEO-LIUC/One%20Drive%20%28Notability%20e%20Universita%CC%80%29/File%20Office%20condivisi%20online/El%20Farol/Contagi%20V2/elfarolepidemic%20Live%20Github/test.ipynb#W1sZmlsZQ%3D%3D?line=3'>4</a>\u001b[0m mod\u001b[39m.\u001b[39;49mrun(seed)\n",
      "File \u001b[0;32m~/Library/CloudStorage/OneDrive-UNIVERSITA'CARLOCATTANEO-LIUC/One Drive (Notability e Università)/File Office condivisi online/El Farol/Contagi V2/elfarolepidemic Live Github/model/MODEL.py:32\u001b[0m, in \u001b[0;36mmodel.run\u001b[0;34m(self, my_seed)\u001b[0m\n\u001b[1;32m     29\u001b[0m random\u001b[39m.\u001b[39mseed(my_seed)\n\u001b[1;32m     30\u001b[0m setup(\u001b[39mself\u001b[39m\u001b[39m.\u001b[39mpar, \u001b[39mself\u001b[39m\u001b[39m.\u001b[39mgv, \u001b[39mself\u001b[39m\u001b[39m.\u001b[39mal)\n\u001b[0;32m---> 32\u001b[0m \u001b[39mfor\u001b[39;00m _ \u001b[39min\u001b[39;00m \u001b[39mrange\u001b[39m(\u001b[39mself\u001b[39m\u001b[39m.\u001b[39mpar\u001b[39m.\u001b[39mmax_week): go(\u001b[39mself\u001b[39;49m\u001b[39m.\u001b[39;49mpar, \u001b[39mself\u001b[39;49m\u001b[39m.\u001b[39;49mgv, \u001b[39mself\u001b[39;49m\u001b[39m.\u001b[39;49mal)\n\u001b[1;32m     34\u001b[0m conclusions()\u001b[39m.\u001b[39mChart(par\u001b[39m=\u001b[39m\u001b[39mself\u001b[39m\u001b[39m.\u001b[39mpar, gv\u001b[39m=\u001b[39m\u001b[39mself\u001b[39m\u001b[39m.\u001b[39mgv)\n\u001b[1;32m     36\u001b[0m \u001b[39mreturn\u001b[39;00m \u001b[39mself\u001b[39m\u001b[39m.\u001b[39mgv\n",
      "File \u001b[0;32m~/Library/CloudStorage/OneDrive-UNIVERSITA'CARLOCATTANEO-LIUC/One Drive (Notability e Università)/File Office condivisi online/El Farol/Contagi V2/elfarolepidemic Live Github/model/go.py:10\u001b[0m, in \u001b[0;36mgo\u001b[0;34m(par, gv, al)\u001b[0m\n\u001b[1;32m      7\u001b[0m gv\u001b[39m.\u001b[39minitialize_gv()\n\u001b[1;32m      9\u001b[0m \u001b[39m# 2 - calculating how many agents are going to the bar\u001b[39;00m\n\u001b[0;32m---> 10\u001b[0m \u001b[39mfor\u001b[39;00m person \u001b[39min\u001b[39;00m al\u001b[39m.\u001b[39mpersons_list: person\u001b[39m.\u001b[39;49mdecisionAttendingBar(gv, par) \n\u001b[1;32m     12\u001b[0m \u001b[39m# 3 - Updating strategy of the present agents\u001b[39;00m\n\u001b[1;32m     13\u001b[0m gv\u001b[39m.\u001b[39mupdate_present_agents_strategy(par)\n",
      "File \u001b[0;32m~/Library/CloudStorage/OneDrive-UNIVERSITA'CARLOCATTANEO-LIUC/One Drive (Notability e Università)/File Office condivisi online/El Farol/Contagi V2/elfarolepidemic Live Github/model/person.py:165\u001b[0m, in \u001b[0;36mPerson.decisionAttendingBar\u001b[0;34m(self, gv, par)\u001b[0m\n\u001b[1;32m    162\u001b[0m     \u001b[39mreturn\u001b[39;00m\n\u001b[1;32m    164\u001b[0m \u001b[39melse\u001b[39;00m:\n\u001b[0;32m--> 165\u001b[0m     a_strat \u001b[39m=\u001b[39m \u001b[39mself\u001b[39;49m\u001b[39m.\u001b[39;49mpersonCurrentStrategy(par, gv) \u001b[39m# This float rapresent the strategy of agent each week\u001b[39;00m\n\u001b[1;32m    167\u001b[0m     c_level \u001b[39m=\u001b[39m \u001b[39m0\u001b[39m \u001b[39m# This float rapresent the contagious level of agent each week\u001b[39;00m\n\u001b[1;32m    168\u001b[0m     \u001b[39mif\u001b[39;00m \u001b[39mself\u001b[39m\u001b[39m.\u001b[39mgetIfInfected(): \u001b[39m# If agent is infected\u001b[39;00m\n",
      "File \u001b[0;32m~/Library/CloudStorage/OneDrive-UNIVERSITA'CARLOCATTANEO-LIUC/One Drive (Notability e Università)/File Office condivisi online/El Farol/Contagi V2/elfarolepidemic Live Github/model/person.py:76\u001b[0m, in \u001b[0;36mPerson.personCurrentStrategy\u001b[0;34m(self, par, gv)\u001b[0m\n\u001b[1;32m     75\u001b[0m \u001b[39mdef\u001b[39;00m \u001b[39mpersonCurrentStrategy\u001b[39m(\u001b[39mself\u001b[39m, par, gv) \u001b[39m-\u001b[39m\u001b[39m>\u001b[39m \u001b[39mfloat\u001b[39m: \u001b[39m# This function is a wrapper for personStrategyOutput and memoryMean\u001b[39;00m\n\u001b[0;32m---> 76\u001b[0m     \u001b[39mself\u001b[39;49m\u001b[39m.\u001b[39;49mpersonStrategyOutput(par, gv)\n\u001b[1;32m     77\u001b[0m     memoryMeanF \u001b[39m=\u001b[39m \u001b[39mself\u001b[39m\u001b[39m.\u001b[39mmemoryMean(par)\n\u001b[1;32m     78\u001b[0m     \u001b[39mreturn\u001b[39;00m memoryMeanF\n",
      "File \u001b[0;32m~/Library/CloudStorage/OneDrive-UNIVERSITA'CARLOCATTANEO-LIUC/One Drive (Notability e Università)/File Office condivisi online/El Farol/Contagi V2/elfarolepidemic Live Github/model/person.py:26\u001b[0m, in \u001b[0;36mPerson.personStrategyOutput\u001b[0;34m(self, par, gv)\u001b[0m\n\u001b[1;32m     24\u001b[0m \u001b[39mdef\u001b[39;00m \u001b[39mpersonStrategyOutput\u001b[39m(\u001b[39mself\u001b[39m, par, gv) \u001b[39m-\u001b[39m\u001b[39m>\u001b[39m \u001b[39mNone\u001b[39;00m: \u001b[39m# This function calculates the latest strategy for the agents every week\u001b[39;00m\n\u001b[1;32m     25\u001b[0m     \u001b[39mif\u001b[39;00m par\u001b[39m.\u001b[39museRegr \u001b[39mand\u001b[39;00m gv\u001b[39m.\u001b[39mt \u001b[39m>\u001b[39m par\u001b[39m.\u001b[39museRegrFrom:\n\u001b[0;32m---> 26\u001b[0m         regr \u001b[39m=\u001b[39m gv\u001b[39m.\u001b[39;49mregLine(\u001b[39mself\u001b[39;49m\u001b[39m.\u001b[39;49mperson_memory)\n\u001b[1;32m     27\u001b[0m         \u001b[39mprint\u001b[39m(regr)\n\u001b[1;32m     28\u001b[0m         s_output \u001b[39m=\u001b[39m regr[\u001b[39mlen\u001b[39m(regr)]\n",
      "File \u001b[0;32m~/Library/CloudStorage/OneDrive-UNIVERSITA'CARLOCATTANEO-LIUC/One Drive (Notability e Università)/File Office condivisi online/El Farol/Contagi V2/elfarolepidemic Live Github/model/global_vars.py:45\u001b[0m, in \u001b[0;36mglob_vars.regLine\u001b[0;34m(arr_y, next_val, arr_x)\u001b[0m\n\u001b[1;32m     43\u001b[0m \u001b[39mdef\u001b[39;00m \u001b[39mregLine\u001b[39m(arr_y, next_val \u001b[39m=\u001b[39m \u001b[39m\"\u001b[39m\u001b[39m\"\u001b[39m, arr_x \u001b[39m=\u001b[39m \u001b[39m\"\u001b[39m\u001b[39m\"\u001b[39m):\n\u001b[1;32m     44\u001b[0m     \u001b[39mif\u001b[39;00m arr_x \u001b[39m==\u001b[39m \u001b[39m\"\u001b[39m\u001b[39m\"\u001b[39m:\n\u001b[0;32m---> 45\u001b[0m         arr_x \u001b[39m=\u001b[39m np\u001b[39m.\u001b[39marange(\u001b[39m1\u001b[39m, \u001b[39mlen\u001b[39;49m(arr_y) \u001b[39m+\u001b[39m \u001b[39m1\u001b[39m)\n\u001b[1;32m     46\u001b[0m     \u001b[39mif\u001b[39;00m next_val \u001b[39m==\u001b[39m \u001b[39m\"\u001b[39m\u001b[39m\"\u001b[39m:\n\u001b[1;32m     47\u001b[0m         arr_x_n \u001b[39m=\u001b[39m np\u001b[39m.\u001b[39marange(\u001b[39m1\u001b[39m, \u001b[39mlen\u001b[39m(arr_y) \u001b[39m+\u001b[39m \u001b[39m2\u001b[39m)\n",
      "\u001b[0;31mTypeError\u001b[0m: object of type 'glob_vars' has no len()"
     ]
    }
   ],
   "source": [
    "seed = 1101\n",
    "\n",
    "mod = model(seed)\n",
    "mod.run(seed)\n"
   ]
  },
  {
   "cell_type": "code",
   "execution_count": null,
   "metadata": {},
   "outputs": [],
   "source": []
  }
 ],
 "metadata": {
  "kernelspec": {
   "display_name": "Python 3",
   "language": "python",
   "name": "python3"
  },
  "language_info": {
   "codemirror_mode": {
    "name": "ipython",
    "version": 3
   },
   "file_extension": ".py",
   "mimetype": "text/x-python",
   "name": "python",
   "nbconvert_exporter": "python",
   "pygments_lexer": "ipython3",
   "version": "3.11.3"
  }
 },
 "nbformat": 4,
 "nbformat_minor": 2
}
