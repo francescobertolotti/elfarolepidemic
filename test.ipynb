{
 "cells": [
  {
   "cell_type": "code",
   "execution_count": 1,
   "metadata": {},
   "outputs": [],
   "source": [
    "from model.parameters import *\n",
    "from model.global_vars import *\n",
    "from model.person import *\n",
    "from model.setup import *\n",
    "from model.go import *\n",
    "from model.conclusion import *\n",
    "from model.MODEL import *\n",
    "\n",
    "import numpy as np"
   ]
  },
  {
   "cell_type": "code",
   "execution_count": 2,
   "metadata": {},
   "outputs": [
    {
     "name": "stdout",
     "output_type": "stream",
     "text": [
      "719225\n",
      "No stored q-table to start\n"
     ]
    },
    {
     "name": "stderr",
     "output_type": "stream",
     "text": [
      "/Users/niccolokadera/Library/CloudStorage/OneDrive-UNIVERSITA'CARLOCATTANEO-LIUC/One Drive (Notability e Università)/File Office condivisi online/El Farol/Contagi V2/elfarolepidemic Live Github/model/global_vars.py:94: RankWarning: Polyfit may be poorly conditioned\n",
      "  coefficients = np.polyfit(arr_x, arr_y, 1)\n",
      "/Users/niccolokadera/Library/CloudStorage/OneDrive-UNIVERSITA'CARLOCATTANEO-LIUC/One Drive (Notability e Università)/File Office condivisi online/El Farol/Contagi V2/elfarolepidemic Live Github/model/person.py:60: RuntimeWarning: divide by zero encountered in scalar divide\n",
      "  general_weight = (1 - np.sum(par.people_memory_weight_arr)) / (len(self.person_memory) - len(par.people_memory_weight_arr))\n"
     ]
    },
    {
     "ename": "KeyboardInterrupt",
     "evalue": "",
     "output_type": "error",
     "traceback": [
      "\u001b[0;31m---------------------------------------------------------------------------\u001b[0m",
      "\u001b[0;31mKeyboardInterrupt\u001b[0m                         Traceback (most recent call last)",
      "Cell \u001b[0;32mIn[2], line 8\u001b[0m\n\u001b[1;32m      6\u001b[0m mod \u001b[38;5;241m=\u001b[39m model(seed)\n\u001b[1;32m      7\u001b[0m \u001b[38;5;66;03m#mod.par.a1_reductionPerc = 0.99\u001b[39;00m\n\u001b[0;32m----> 8\u001b[0m \u001b[43mmod\u001b[49m\u001b[38;5;241;43m.\u001b[39;49m\u001b[43mrun\u001b[49m\u001b[43m(\u001b[49m\u001b[43mseed\u001b[49m\u001b[43m)\u001b[49m\n",
      "File \u001b[0;32m~/Library/CloudStorage/OneDrive-UNIVERSITA'CARLOCATTANEO-LIUC/One Drive (Notability e Università)/File Office condivisi online/El Farol/Contagi V2/elfarolepidemic Live Github/model/MODEL.py:45\u001b[0m, in \u001b[0;36mmodel.run\u001b[0;34m(self, my_seed)\u001b[0m\n\u001b[1;32m     42\u001b[0m json_table_id \u001b[38;5;241m=\u001b[39m \u001b[38;5;28mself\u001b[39m\u001b[38;5;241m.\u001b[39mgv\u001b[38;5;241m.\u001b[39mrestore_q_table(\u001b[38;5;28mself\u001b[39m\u001b[38;5;241m.\u001b[39mpar)\n\u001b[1;32m     44\u001b[0m \u001b[38;5;66;03m# Running model\u001b[39;00m\n\u001b[0;32m---> 45\u001b[0m \u001b[38;5;28;01mfor\u001b[39;00m _ \u001b[38;5;129;01min\u001b[39;00m \u001b[38;5;28mrange\u001b[39m(\u001b[38;5;28mself\u001b[39m\u001b[38;5;241m.\u001b[39mpar\u001b[38;5;241m.\u001b[39mmax_days): \u001b[43mgo\u001b[49m\u001b[43m(\u001b[49m\u001b[38;5;28;43mself\u001b[39;49m\u001b[38;5;241;43m.\u001b[39;49m\u001b[43mpar\u001b[49m\u001b[43m,\u001b[49m\u001b[43m \u001b[49m\u001b[38;5;28;43mself\u001b[39;49m\u001b[38;5;241;43m.\u001b[39;49m\u001b[43mgv\u001b[49m\u001b[43m,\u001b[49m\u001b[43m \u001b[49m\u001b[38;5;28;43mself\u001b[39;49m\u001b[38;5;241;43m.\u001b[39;49m\u001b[43mal\u001b[49m\u001b[43m,\u001b[49m\u001b[43m \u001b[49m\u001b[38;5;28;43mself\u001b[39;49m\u001b[38;5;241;43m.\u001b[39;49m\u001b[43mpm\u001b[49m\u001b[43m)\u001b[49m\n\u001b[1;32m     46\u001b[0m \u001b[38;5;28;01mif\u001b[39;00m \u001b[38;5;28mself\u001b[39m\u001b[38;5;241m.\u001b[39mpar\u001b[38;5;241m.\u001b[39mdraw_conclusions: conclusions()\u001b[38;5;241m.\u001b[39mChart(par\u001b[38;5;241m=\u001b[39m\u001b[38;5;28mself\u001b[39m\u001b[38;5;241m.\u001b[39mpar, gv\u001b[38;5;241m=\u001b[39m\u001b[38;5;28mself\u001b[39m\u001b[38;5;241m.\u001b[39mgv)\n\u001b[1;32m     49\u001b[0m \u001b[38;5;66;03m# Saving q-table\u001b[39;00m\n",
      "File \u001b[0;32m~/Library/CloudStorage/OneDrive-UNIVERSITA'CARLOCATTANEO-LIUC/One Drive (Notability e Università)/File Office condivisi online/El Farol/Contagi V2/elfarolepidemic Live Github/model/go.py:18\u001b[0m, in \u001b[0;36mgo\u001b[0;34m(par, gv, al, pm)\u001b[0m\n\u001b[1;32m     16\u001b[0m \u001b[38;5;66;03m# 2 - calculating how many agents are going to the bar\u001b[39;00m\n\u001b[1;32m     17\u001b[0m \u001b[38;5;28;01mfor\u001b[39;00m person \u001b[38;5;129;01min\u001b[39;00m al\u001b[38;5;241m.\u001b[39mpersons_list: person\u001b[38;5;241m.\u001b[39mgetContagiousLevel(par, gv, gv\u001b[38;5;241m.\u001b[39mt)\n\u001b[0;32m---> 18\u001b[0m \u001b[38;5;28;01mfor\u001b[39;00m person \u001b[38;5;129;01min\u001b[39;00m al\u001b[38;5;241m.\u001b[39mpersons_list: \u001b[43mperson\u001b[49m\u001b[38;5;241;43m.\u001b[39;49m\u001b[43mdecisionAttendingBar\u001b[49m\u001b[43m(\u001b[49m\u001b[43mgv\u001b[49m\u001b[43m,\u001b[49m\u001b[43m \u001b[49m\u001b[43mpar\u001b[49m\u001b[43m)\u001b[49m \n\u001b[1;32m     21\u001b[0m \u001b[38;5;66;03m# 3 - Updating strategy of the present agents\u001b[39;00m\n\u001b[1;32m     22\u001b[0m gv\u001b[38;5;241m.\u001b[39mupdate_present_agents_strategy(par)\n",
      "File \u001b[0;32m~/Library/CloudStorage/OneDrive-UNIVERSITA'CARLOCATTANEO-LIUC/One Drive (Notability e Università)/File Office condivisi online/El Farol/Contagi V2/elfarolepidemic Live Github/model/person.py:205\u001b[0m, in \u001b[0;36mPerson.decisionAttendingBar\u001b[0;34m(self, gv, par)\u001b[0m\n\u001b[1;32m    202\u001b[0m     \u001b[38;5;28;01mreturn\u001b[39;00m\n\u001b[1;32m    204\u001b[0m \u001b[38;5;28;01melse\u001b[39;00m:\n\u001b[0;32m--> 205\u001b[0m     a_strat \u001b[38;5;241m=\u001b[39m \u001b[38;5;28;43mself\u001b[39;49m\u001b[38;5;241;43m.\u001b[39;49m\u001b[43mpersonCurrentStrategy\u001b[49m\u001b[43m(\u001b[49m\u001b[43mpar\u001b[49m\u001b[43m,\u001b[49m\u001b[43m \u001b[49m\u001b[43mgv\u001b[49m\u001b[43m)\u001b[49m \u001b[38;5;66;03m# This float rapresent the strategy of agent each day\u001b[39;00m\n\u001b[1;32m    207\u001b[0m     c_level \u001b[38;5;241m=\u001b[39m \u001b[38;5;241m0\u001b[39m \u001b[38;5;66;03m# This float rapresent the contagious level of agent each day\u001b[39;00m\n\u001b[1;32m    208\u001b[0m     \u001b[38;5;28;01mif\u001b[39;00m \u001b[38;5;28mself\u001b[39m\u001b[38;5;241m.\u001b[39mgetIfInfected(): \u001b[38;5;66;03m# If agent is infected\u001b[39;00m\n",
      "File \u001b[0;32m~/Library/CloudStorage/OneDrive-UNIVERSITA'CARLOCATTANEO-LIUC/One Drive (Notability e Università)/File Office condivisi online/El Farol/Contagi V2/elfarolepidemic Live Github/model/person.py:99\u001b[0m, in \u001b[0;36mPerson.personCurrentStrategy\u001b[0;34m(self, par, gv)\u001b[0m\n\u001b[1;32m     97\u001b[0m     \u001b[38;5;28mself\u001b[39m\u001b[38;5;241m.\u001b[39mpersonStrategyOutputOne()\n\u001b[1;32m     98\u001b[0m \u001b[38;5;28;01mif\u001b[39;00m \u001b[38;5;28mself\u001b[39m\u001b[38;5;241m.\u001b[39mstrategyType \u001b[38;5;241m==\u001b[39m \u001b[38;5;241m2\u001b[39m:\n\u001b[0;32m---> 99\u001b[0m     \u001b[38;5;28;43mself\u001b[39;49m\u001b[38;5;241;43m.\u001b[39;49m\u001b[43mpersonStrategyOutputTwo\u001b[49m\u001b[43m(\u001b[49m\u001b[43mpar\u001b[49m\u001b[43m,\u001b[49m\u001b[43m \u001b[49m\u001b[43mgv\u001b[49m\u001b[43m)\u001b[49m\n\u001b[1;32m    100\u001b[0m memoryMeanF \u001b[38;5;241m=\u001b[39m \u001b[38;5;28mself\u001b[39m\u001b[38;5;241m.\u001b[39mmemoryMean(par)\n\u001b[1;32m    101\u001b[0m \u001b[38;5;28;01mreturn\u001b[39;00m memoryMeanF\n",
      "File \u001b[0;32m~/Library/CloudStorage/OneDrive-UNIVERSITA'CARLOCATTANEO-LIUC/One Drive (Notability e Università)/File Office condivisi online/El Farol/Contagi V2/elfarolepidemic Live Github/model/person.py:49\u001b[0m, in \u001b[0;36mPerson.personStrategyOutputTwo\u001b[0;34m(self, par, gv)\u001b[0m\n\u001b[1;32m     47\u001b[0m \u001b[38;5;28;01mdef\u001b[39;00m \u001b[38;5;21mpersonStrategyOutputTwo\u001b[39m(\u001b[38;5;28mself\u001b[39m, par, gv) \u001b[38;5;241m-\u001b[39m\u001b[38;5;241m>\u001b[39m \u001b[38;5;28;01mNone\u001b[39;00m: \u001b[38;5;66;03m# This function calculates the latest strategy for the agents every day\u001b[39;00m\n\u001b[1;32m     48\u001b[0m     \u001b[38;5;28;01mif\u001b[39;00m gv\u001b[38;5;241m.\u001b[39mt \u001b[38;5;241m>\u001b[39m\u001b[38;5;241m=\u001b[39m par\u001b[38;5;241m.\u001b[39museRegrFrom:\n\u001b[0;32m---> 49\u001b[0m         s_output \u001b[38;5;241m=\u001b[39m \u001b[38;5;28;43mself\u001b[39;49m\u001b[38;5;241;43m.\u001b[39;49m\u001b[43mregrLinStrategyMethod\u001b[49m\u001b[43m(\u001b[49m\u001b[43mpar\u001b[49m\u001b[43m,\u001b[49m\u001b[43m \u001b[49m\u001b[43mgv\u001b[49m\u001b[43m)\u001b[49m\n\u001b[1;32m     50\u001b[0m     \u001b[38;5;28;01melse\u001b[39;00m:\n\u001b[1;32m     51\u001b[0m         s_output \u001b[38;5;241m=\u001b[39m \u001b[38;5;28mself\u001b[39m\u001b[38;5;241m.\u001b[39mdefaultStrategyMethod()\n",
      "File \u001b[0;32m~/Library/CloudStorage/OneDrive-UNIVERSITA'CARLOCATTANEO-LIUC/One Drive (Notability e Università)/File Office condivisi online/El Farol/Contagi V2/elfarolepidemic Live Github/model/person.py:32\u001b[0m, in \u001b[0;36mPerson.regrLinStrategyMethod\u001b[0;34m(self, par, gv)\u001b[0m\n\u001b[1;32m     31\u001b[0m \u001b[38;5;28;01mdef\u001b[39;00m \u001b[38;5;21mregrLinStrategyMethod\u001b[39m(\u001b[38;5;28mself\u001b[39m, par, gv):\n\u001b[0;32m---> 32\u001b[0m     regr \u001b[38;5;241m=\u001b[39m \u001b[43mgv\u001b[49m\u001b[38;5;241;43m.\u001b[39;49m\u001b[43mregLine\u001b[49m\u001b[43m(\u001b[49m\u001b[43mpar\u001b[49m\u001b[43m,\u001b[49m\u001b[43m \u001b[49m\u001b[38;5;28;43mself\u001b[39;49m\u001b[38;5;241;43m.\u001b[39;49m\u001b[43mperson_memory\u001b[49m\u001b[43m)\u001b[49m\n\u001b[1;32m     33\u001b[0m     regr_output \u001b[38;5;241m=\u001b[39m regr[\u001b[38;5;28mlen\u001b[39m(regr) \u001b[38;5;241m-\u001b[39m \u001b[38;5;241m1\u001b[39m]\n\u001b[1;32m     34\u001b[0m     \u001b[38;5;28;01mreturn\u001b[39;00m (regr_output \u001b[38;5;241m*\u001b[39m par\u001b[38;5;241m.\u001b[39museRegrFor) \u001b[38;5;241m+\u001b[39m (\u001b[38;5;28mself\u001b[39m\u001b[38;5;241m.\u001b[39mdefaultStrategyMethod() \u001b[38;5;241m*\u001b[39m (\u001b[38;5;241m1\u001b[39m \u001b[38;5;241m-\u001b[39m par\u001b[38;5;241m.\u001b[39museRegrFor))\n",
      "File \u001b[0;32m~/Library/CloudStorage/OneDrive-UNIVERSITA'CARLOCATTANEO-LIUC/One Drive (Notability e Università)/File Office condivisi online/El Farol/Contagi V2/elfarolepidemic Live Github/model/global_vars.py:77\u001b[0m, in \u001b[0;36mglob_vars.regLine\u001b[0;34m(self, par, arr_y, next_val, arr_x)\u001b[0m\n\u001b[1;32m     74\u001b[0m \u001b[38;5;28;01melse\u001b[39;00m:\n\u001b[1;32m     75\u001b[0m     arr_x_n \u001b[38;5;241m=\u001b[39m np\u001b[38;5;241m.\u001b[39marange(\u001b[38;5;241m1\u001b[39m, next_val \u001b[38;5;241m+\u001b[39m \u001b[38;5;241m1\u001b[39m)\n\u001b[0;32m---> 77\u001b[0m coefficients \u001b[38;5;241m=\u001b[39m \u001b[43mnp\u001b[49m\u001b[38;5;241;43m.\u001b[39;49m\u001b[43mpolyfit\u001b[49m\u001b[43m(\u001b[49m\u001b[43marr_x\u001b[49m\u001b[43m,\u001b[49m\u001b[43m \u001b[49m\u001b[43marr_y\u001b[49m\u001b[43m,\u001b[49m\u001b[43m \u001b[49m\u001b[43mpar\u001b[49m\u001b[38;5;241;43m.\u001b[39;49m\u001b[43mregression_type\u001b[49m\u001b[43m)\u001b[49m\n\u001b[1;32m     78\u001b[0m regression_line \u001b[38;5;241m=\u001b[39m np\u001b[38;5;241m.\u001b[39mpoly1d(coefficients)\n\u001b[1;32m     79\u001b[0m res_arr \u001b[38;5;241m=\u001b[39m regression_line(arr_x_n)\n",
      "File \u001b[0;32m/Library/Frameworks/Python.framework/Versions/3.11/lib/python3.11/site-packages/numpy/lib/polynomial.py:669\u001b[0m, in \u001b[0;36mpolyfit\u001b[0;34m(x, y, deg, rcond, full, w, cov)\u001b[0m\n\u001b[1;32m    667\u001b[0m scale \u001b[38;5;241m=\u001b[39m NX\u001b[38;5;241m.\u001b[39msqrt((lhs\u001b[38;5;241m*\u001b[39mlhs)\u001b[38;5;241m.\u001b[39msum(axis\u001b[38;5;241m=\u001b[39m\u001b[38;5;241m0\u001b[39m))\n\u001b[1;32m    668\u001b[0m lhs \u001b[38;5;241m/\u001b[39m\u001b[38;5;241m=\u001b[39m scale\n\u001b[0;32m--> 669\u001b[0m c, resids, rank, s \u001b[38;5;241m=\u001b[39m \u001b[43mlstsq\u001b[49m\u001b[43m(\u001b[49m\u001b[43mlhs\u001b[49m\u001b[43m,\u001b[49m\u001b[43m \u001b[49m\u001b[43mrhs\u001b[49m\u001b[43m,\u001b[49m\u001b[43m \u001b[49m\u001b[43mrcond\u001b[49m\u001b[43m)\u001b[49m\n\u001b[1;32m    670\u001b[0m c \u001b[38;5;241m=\u001b[39m (c\u001b[38;5;241m.\u001b[39mT\u001b[38;5;241m/\u001b[39mscale)\u001b[38;5;241m.\u001b[39mT  \u001b[38;5;66;03m# broadcast scale coefficients\u001b[39;00m\n\u001b[1;32m    672\u001b[0m \u001b[38;5;66;03m# warn on rank reduction, which indicates an ill conditioned matrix\u001b[39;00m\n",
      "File \u001b[0;32m/Library/Frameworks/Python.framework/Versions/3.11/lib/python3.11/site-packages/numpy/linalg/linalg.py:2293\u001b[0m, in \u001b[0;36mlstsq\u001b[0;34m(a, b, rcond)\u001b[0m\n\u001b[1;32m   2291\u001b[0m \u001b[38;5;28;01mif\u001b[39;00m is_1d:\n\u001b[1;32m   2292\u001b[0m     b \u001b[38;5;241m=\u001b[39m b[:, newaxis]\n\u001b[0;32m-> 2293\u001b[0m \u001b[43m_assert_2d\u001b[49m\u001b[43m(\u001b[49m\u001b[43ma\u001b[49m\u001b[43m,\u001b[49m\u001b[43m \u001b[49m\u001b[43mb\u001b[49m\u001b[43m)\u001b[49m\n\u001b[1;32m   2294\u001b[0m m, n \u001b[38;5;241m=\u001b[39m a\u001b[38;5;241m.\u001b[39mshape[\u001b[38;5;241m-\u001b[39m\u001b[38;5;241m2\u001b[39m:]\n\u001b[1;32m   2295\u001b[0m m2, n_rhs \u001b[38;5;241m=\u001b[39m b\u001b[38;5;241m.\u001b[39mshape[\u001b[38;5;241m-\u001b[39m\u001b[38;5;241m2\u001b[39m:]\n",
      "File \u001b[0;32m/Library/Frameworks/Python.framework/Versions/3.11/lib/python3.11/site-packages/numpy/linalg/linalg.py:197\u001b[0m, in \u001b[0;36m_assert_2d\u001b[0;34m(*arrays)\u001b[0m\n\u001b[1;32m    193\u001b[0m     \u001b[38;5;28;01melse\u001b[39;00m:\n\u001b[1;32m    194\u001b[0m         \u001b[38;5;28;01mreturn\u001b[39;00m ret\n\u001b[0;32m--> 197\u001b[0m \u001b[38;5;28;01mdef\u001b[39;00m \u001b[38;5;21m_assert_2d\u001b[39m(\u001b[38;5;241m*\u001b[39marrays):\n\u001b[1;32m    198\u001b[0m     \u001b[38;5;28;01mfor\u001b[39;00m a \u001b[38;5;129;01min\u001b[39;00m arrays:\n\u001b[1;32m    199\u001b[0m         \u001b[38;5;28;01mif\u001b[39;00m a\u001b[38;5;241m.\u001b[39mndim \u001b[38;5;241m!=\u001b[39m \u001b[38;5;241m2\u001b[39m:\n",
      "\u001b[0;31mKeyboardInterrupt\u001b[0m: "
     ]
    }
   ],
   "source": [
    "seed = np.random.randint(1000000)\n",
    "print(seed)\n",
    "# seed = 1101\n",
    "# 1101 il contagio si ferma\n",
    "\n",
    "mod = model(seed)\n",
    "#mod.par.a1_reductionPerc = 0.99\n",
    "mod.run(seed)\n",
    "\n"
   ]
  },
  {
   "cell_type": "code",
   "execution_count": null,
   "metadata": {},
   "outputs": [
    {
     "name": "stdout",
     "output_type": "stream",
     "text": [
      "State: 0, Q-Table: [0.0, -128.72, -10.360000000000001]\n",
      "State: 1, Q-Table: [0.0, -51.50000000000001, 0.0]\n",
      "State: 2, Q-Table: [0.0, 519.56, 0.0]\n",
      "State: 3, Q-Table: [228.76, 307.55999999999995, 151.92000000000002]\n",
      "State: 4, Q-Table: [0.0, 0.0, 10.0]\n",
      "State: 5, Q-Table: [-133.16000000000003, 31.940000000000055, 371.82]\n",
      "State: 6, Q-Table: [38.62, 35.260000000000005, 475.48]\n",
      "State: 7, Q-Table: [0.0, 0.0, 0.0]\n",
      "State: 8, Q-Table: [0.0, -12.2, -11.040000000000003]\n",
      "State: 9, Q-Table: [0.0, 0.0, 0.0]\n",
      "State: 10, Q-Table: [0.0, 0.0, 0.0]\n",
      "State: 11, Q-Table: [0.0, 0.0, 0.0]\n"
     ]
    }
   ],
   "source": [
    "if mod.par.enableRL:\n",
    "    for i, el in enumerate(mod.gv.q_table.tolist()):\n",
    "        print(f'State: {i}, Q-Table: {el}')"
   ]
  },
  {
   "cell_type": "code",
   "execution_count": null,
   "metadata": {},
   "outputs": [],
   "source": []
  },
  {
   "cell_type": "code",
   "execution_count": null,
   "metadata": {},
   "outputs": [
    {
     "name": "stdout",
     "output_type": "stream",
     "text": [
      "t:  1  - infected:  100  - attendance infected:  56  - new infected:  0  - recovered:  0  - t:  1\n",
      "t:  2  - infected:  100  - attendance infected:  0  - new infected:  0  - recovered:  0  - t:  2\n",
      "t:  3  - infected:  100  - attendance infected:  0  - new infected:  0  - recovered:  0  - t:  3\n",
      "t:  4  - infected:  100  - attendance infected:  0  - new infected:  0  - recovered:  0  - t:  4\n",
      "t:  5  - infected:  220  - attendance infected:  40  - new infected:  120  - recovered:  0  - t:  5\n",
      "t:  6  - infected:  349  - attendance infected:  104  - new infected:  129  - recovered:  0  - t:  6\n",
      "t:  7  - infected:  425  - attendance infected:  92  - new infected:  76  - recovered:  0  - t:  7\n",
      "t:  8  - infected:  425  - attendance infected:  77  - new infected:  0  - recovered:  0  - t:  8\n",
      "t:  9  - infected:  425  - attendance infected:  40  - new infected:  0  - recovered:  0  - t:  9\n",
      "t:  10  - infected:  543  - attendance infected:  97  - new infected:  118  - recovered:  0  - t:  10\n",
      "t:  11  - infected:  721  - attendance infected:  246  - new infected:  278  - recovered:  100  - t:  11\n",
      "t:  12  - infected:  781  - attendance infected:  449  - new infected:  60  - recovered:  0  - t:  12\n",
      "t:  13  - infected:  807  - attendance infected:  235  - new infected:  26  - recovered:  0  - t:  13\n",
      "t:  14  - infected:  807  - attendance infected:  211  - new infected:  0  - recovered:  0  - t:  14\n",
      "t:  15  - infected:  992  - attendance infected:  313  - new infected:  185  - recovered:  0  - t:  15\n",
      "t:  16  - infected:  927  - attendance infected:  667  - new infected:  55  - recovered:  120  - t:  16\n",
      "t:  17  - infected:  827  - attendance infected:  492  - new infected:  29  - recovered:  129  - t:  17\n",
      "t:  18  - infected:  858  - attendance infected:  454  - new infected:  107  - recovered:  76  - t:  18\n",
      "t:  19  - infected:  858  - attendance infected:  218  - new infected:  0  - recovered:  0  - t:  19\n",
      "t:  20  - infected:  858  - attendance infected:  370  - new infected:  0  - recovered:  0  - t:  20\n",
      "t:  21  - infected:  740  - attendance infected:  314  - new infected:  0  - recovered:  118  - t:  21\n",
      "t:  22  - infected:  462  - attendance infected:  62  - new infected:  0  - recovered:  278  - t:  22\n",
      "t:  23  - infected:  742  - attendance infected:  340  - new infected:  340  - recovered:  60  - t:  23\n",
      "t:  24  - infected:  716  - attendance infected:  414  - new infected:  0  - recovered:  26  - t:  24\n",
      "t:  25  - infected:  716  - attendance infected:  195  - new infected:  0  - recovered:  0  - t:  25\n",
      "t:  26  - infected:  531  - attendance infected:  168  - new infected:  0  - recovered:  185  - t:  26\n",
      "t:  27  - infected:  476  - attendance infected:  129  - new infected:  0  - recovered:  55  - t:  27\n",
      "t:  28  - infected:  990  - attendance infected:  428  - new infected:  543  - recovered:  29  - t:  28\n",
      "t:  29  - infected:  923  - attendance infected:  688  - new infected:  40  - recovered:  107  - t:  29\n",
      "t:  30  - infected:  923  - attendance infected:  21  - new infected:  0  - recovered:  0  - t:  30\n",
      "t:  31  - infected:  923  - attendance infected:  0  - new infected:  0  - recovered:  0  - t:  31\n",
      "t:  32  - infected:  923  - attendance infected:  322  - new infected:  0  - recovered:  0  - t:  32\n",
      "t:  33  - infected:  1144  - attendance infected:  826  - new infected:  221  - recovered:  0  - t:  33\n",
      "t:  34  - infected:  804  - attendance infected:  160  - new infected:  0  - recovered:  340  - t:  34\n",
      "t:  35  - infected:  804  - attendance infected:  0  - new infected:  0  - recovered:  0  - t:  35\n",
      "t:  36  - infected:  804  - attendance infected:  526  - new infected:  0  - recovered:  0  - t:  36\n",
      "t:  37  - infected:  804  - attendance infected:  426  - new infected:  0  - recovered:  0  - t:  37\n",
      "t:  38  - infected:  804  - attendance infected:  461  - new infected:  0  - recovered:  0  - t:  38\n",
      "t:  39  - infected:  261  - attendance infected:  21  - new infected:  0  - recovered:  543  - t:  39\n",
      "t:  40  - infected:  221  - attendance infected:  199  - new infected:  0  - recovered:  40  - t:  40\n",
      "t:  41  - infected:  221  - attendance infected:  184  - new infected:  0  - recovered:  0  - t:  41\n",
      "t:  42  - infected:  221  - attendance infected:  176  - new infected:  0  - recovered:  0  - t:  42\n",
      "t:  43  - infected:  221  - attendance infected:  178  - new infected:  0  - recovered:  0  - t:  43\n",
      "t:  44  - infected:  0  - attendance infected:  0  - new infected:  0  - recovered:  221  - t:  44\n",
      "t:  45  - infected:  0  - attendance infected:  0  - new infected:  0  - recovered:  0  - t:  45\n",
      "t:  46  - infected:  0  - attendance infected:  0  - new infected:  0  - recovered:  0  - t:  46\n",
      "t:  47  - infected:  0  - attendance infected:  0  - new infected:  0  - recovered:  0  - t:  47\n",
      "t:  48  - infected:  0  - attendance infected:  0  - new infected:  0  - recovered:  0  - t:  48\n",
      "t:  49  - infected:  0  - attendance infected:  0  - new infected:  0  - recovered:  0  - t:  49\n",
      "t:  50  - infected:  0  - attendance infected:  0  - new infected:  0  - recovered:  0  - t:  50\n",
      "t:  51  - infected:  0  - attendance infected:  0  - new infected:  0  - recovered:  0  - t:  51\n",
      "t:  52  - infected:  0  - attendance infected:  0  - new infected:  0  - recovered:  0  - t:  52\n",
      "t:  53  - infected:  0  - attendance infected:  0  - new infected:  0  - recovered:  0  - t:  53\n",
      "t:  54  - infected:  0  - attendance infected:  0  - new infected:  0  - recovered:  0  - t:  54\n",
      "t:  55  - infected:  0  - attendance infected:  0  - new infected:  0  - recovered:  0  - t:  55\n",
      "t:  56  - infected:  0  - attendance infected:  0  - new infected:  0  - recovered:  0  - t:  56\n",
      "t:  57  - infected:  0  - attendance infected:  0  - new infected:  0  - recovered:  0  - t:  57\n",
      "t:  58  - infected:  0  - attendance infected:  0  - new infected:  0  - recovered:  0  - t:  58\n",
      "t:  59  - infected:  0  - attendance infected:  0  - new infected:  0  - recovered:  0  - t:  59\n",
      "t:  60  - infected:  0  - attendance infected:  0  - new infected:  0  - recovered:  0  - t:  60\n",
      "t:  61  - infected:  0  - attendance infected:  0  - new infected:  0  - recovered:  0  - t:  61\n",
      "t:  62  - infected:  0  - attendance infected:  0  - new infected:  0  - recovered:  0  - t:  62\n",
      "t:  63  - infected:  0  - attendance infected:  0  - new infected:  0  - recovered:  0  - t:  63\n",
      "t:  64  - infected:  0  - attendance infected:  0  - new infected:  0  - recovered:  0  - t:  64\n",
      "t:  65  - infected:  0  - attendance infected:  0  - new infected:  0  - recovered:  0  - t:  65\n",
      "t:  66  - infected:  0  - attendance infected:  0  - new infected:  0  - recovered:  0  - t:  66\n",
      "t:  67  - infected:  0  - attendance infected:  0  - new infected:  0  - recovered:  0  - t:  67\n",
      "t:  68  - infected:  0  - attendance infected:  0  - new infected:  0  - recovered:  0  - t:  68\n",
      "t:  69  - infected:  0  - attendance infected:  0  - new infected:  0  - recovered:  0  - t:  69\n",
      "t:  70  - infected:  0  - attendance infected:  0  - new infected:  0  - recovered:  0  - t:  70\n",
      "t:  71  - infected:  0  - attendance infected:  0  - new infected:  0  - recovered:  0  - t:  71\n",
      "t:  72  - infected:  0  - attendance infected:  0  - new infected:  0  - recovered:  0  - t:  72\n",
      "t:  73  - infected:  0  - attendance infected:  0  - new infected:  0  - recovered:  0  - t:  73\n",
      "t:  74  - infected:  0  - attendance infected:  0  - new infected:  0  - recovered:  0  - t:  74\n",
      "t:  75  - infected:  0  - attendance infected:  0  - new infected:  0  - recovered:  0  - t:  75\n",
      "t:  76  - infected:  0  - attendance infected:  0  - new infected:  0  - recovered:  0  - t:  76\n",
      "t:  77  - infected:  0  - attendance infected:  0  - new infected:  0  - recovered:  0  - t:  77\n",
      "t:  78  - infected:  0  - attendance infected:  0  - new infected:  0  - recovered:  0  - t:  78\n",
      "t:  79  - infected:  0  - attendance infected:  0  - new infected:  0  - recovered:  0  - t:  79\n",
      "t:  80  - infected:  0  - attendance infected:  0  - new infected:  0  - recovered:  0  - t:  80\n",
      "t:  81  - infected:  0  - attendance infected:  0  - new infected:  0  - recovered:  0  - t:  81\n",
      "t:  82  - infected:  0  - attendance infected:  0  - new infected:  0  - recovered:  0  - t:  82\n",
      "t:  83  - infected:  0  - attendance infected:  0  - new infected:  0  - recovered:  0  - t:  83\n",
      "t:  84  - infected:  0  - attendance infected:  0  - new infected:  0  - recovered:  0  - t:  84\n",
      "t:  85  - infected:  0  - attendance infected:  0  - new infected:  0  - recovered:  0  - t:  85\n",
      "t:  86  - infected:  0  - attendance infected:  0  - new infected:  0  - recovered:  0  - t:  86\n",
      "t:  87  - infected:  0  - attendance infected:  0  - new infected:  0  - recovered:  0  - t:  87\n",
      "t:  88  - infected:  0  - attendance infected:  0  - new infected:  0  - recovered:  0  - t:  88\n",
      "t:  89  - infected:  0  - attendance infected:  0  - new infected:  0  - recovered:  0  - t:  89\n",
      "t:  90  - infected:  0  - attendance infected:  0  - new infected:  0  - recovered:  0  - t:  90\n",
      "t:  91  - infected:  0  - attendance infected:  0  - new infected:  0  - recovered:  0  - t:  91\n",
      "t:  92  - infected:  0  - attendance infected:  0  - new infected:  0  - recovered:  0  - t:  92\n",
      "t:  93  - infected:  0  - attendance infected:  0  - new infected:  0  - recovered:  0  - t:  93\n",
      "t:  94  - infected:  0  - attendance infected:  0  - new infected:  0  - recovered:  0  - t:  94\n",
      "t:  95  - infected:  0  - attendance infected:  0  - new infected:  0  - recovered:  0  - t:  95\n",
      "t:  96  - infected:  0  - attendance infected:  0  - new infected:  0  - recovered:  0  - t:  96\n",
      "t:  97  - infected:  0  - attendance infected:  0  - new infected:  0  - recovered:  0  - t:  97\n",
      "t:  98  - infected:  0  - attendance infected:  0  - new infected:  0  - recovered:  0  - t:  98\n",
      "t:  99  - infected:  0  - attendance infected:  0  - new infected:  0  - recovered:  0  - t:  99\n",
      "t:  100  - infected:  0  - attendance infected:  0  - new infected:  0  - recovered:  0  - t:  100\n"
     ]
    }
   ],
   "source": [
    "I, AI, nAI, rI = mod.gv.contagious_history, mod.gv.present_contagious_history, mod.gv.new_infected_history, mod.gv.recovered_agents_history\n",
    "for i in range(len(AI)):\n",
    "    print('t: ', i + 1,' - infected: ', I[i], ' - attendance infected: ', AI[i], ' - new infected: ', nAI[i], ' - recovered: ', rI[i], ' - t: ', i + 1)"
   ]
  },
  {
   "cell_type": "code",
   "execution_count": null,
   "metadata": {},
   "outputs": [],
   "source": []
  }
 ],
 "metadata": {
  "kernelspec": {
   "display_name": "Python 3",
   "language": "python",
   "name": "python3"
  },
  "language_info": {
   "codemirror_mode": {
    "name": "ipython",
    "version": 3
   },
   "file_extension": ".py",
   "mimetype": "text/x-python",
   "name": "python",
   "nbconvert_exporter": "python",
   "pygments_lexer": "ipython3",
   "version": "3.11.5"
  }
 },
 "nbformat": 4,
 "nbformat_minor": 2
}
