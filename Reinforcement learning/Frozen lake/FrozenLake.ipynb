{
 "cells": [
  {
   "cell_type": "code",
   "execution_count": 1,
   "metadata": {},
   "outputs": [],
   "source": [
    "import gymnasium as gym\n",
    "import random\n",
    "import numpy as np\n",
    "import pygame\n",
    "\n"
   ]
  },
  {
   "cell_type": "markdown",
   "metadata": {},
   "source": []
  },
  {
   "cell_type": "code",
   "execution_count": 2,
   "metadata": {},
   "outputs": [],
   "source": [
    "from sympy.abc import y\n",
    "class Lake:\n",
    "\n",
    "    def __init__(self) -> None:\n",
    "        \n",
    "        # Env\n",
    "        self.enviroment = gym.make(\"FrozenLake-v1\", is_slippery=False, render_mode=\"human\")\n",
    "        self.enviroment.reset()\n",
    "        self.enviroment.render()\n",
    "        self.qtable = np.zeros((16, 4))\n",
    "\n",
    "        # Params\n",
    "        r_t = 1\n",
    "        y = 0.9\n",
    "        a = 0.5\n",
    "\n",
    "\n",
    "    def train(self, episodes: int):\n",
    "        for i in range(episodes):\n",
    "            state = self.enviroment.reset()\n",
    "            done = False\n",
    "            while not done:\n",
    "                action = np.argmax(self.qtable[state])\n",
    "                if action == 0:\n",
    "                    action = self.enviroment.action_space.sample()\n",
    "                new_state, reward, done, info = self.enviroment.step(action)\n",
    "                self.qtable[state, action] = reward + y * np.max(self.qtable[new_state])\n",
    "                state = new_state"
   ]
  },
  {
   "cell_type": "code",
   "execution_count": 3,
   "metadata": {},
   "outputs": [
    {
     "name": "stderr",
     "output_type": "stream",
     "text": [
      "2024-01-30 20:10:03.203 Python[89882:3929220] WARNING: Secure coding is not enabled for restorable state! Enable secure coding by implementing NSApplicationDelegate.applicationSupportsSecureRestorableState: and returning YES.\n"
     ]
    },
    {
     "ename": "AttributeError",
     "evalue": "'Lake' object has no attribute 'step'",
     "output_type": "error",
     "traceback": [
      "\u001b[0;31m---------------------------------------------------------------------------\u001b[0m",
      "\u001b[0;31mAttributeError\u001b[0m                            Traceback (most recent call last)",
      "Cell \u001b[0;32mIn[3], line 2\u001b[0m\n\u001b[1;32m      1\u001b[0m l \u001b[38;5;241m=\u001b[39m Lake()\n\u001b[0;32m----> 2\u001b[0m \u001b[43ml\u001b[49m\u001b[38;5;241;43m.\u001b[39;49m\u001b[43mstep\u001b[49m()\n",
      "\u001b[0;31mAttributeError\u001b[0m: 'Lake' object has no attribute 'step'"
     ]
    },
    {
     "ename": "",
     "evalue": "",
     "output_type": "error",
     "traceback": [
      "\u001b[1;31mThe Kernel crashed while executing code in the the current cell or a previous cell. Please review the code in the cell(s) to identify a possible cause of the failure. Click <a href='https://aka.ms/vscodeJupyterKernelCrash'>here</a> for more info. View Jupyter <a href='command:jupyter.viewOutput'>log</a> for further details."
     ]
    }
   ],
   "source": [
    "l = Lake()\n",
    "l.step()"
   ]
  }
 ],
 "metadata": {
  "kernelspec": {
   "display_name": "Python 3",
   "language": "python",
   "name": "python3"
  },
  "language_info": {
   "codemirror_mode": {
    "name": "ipython",
    "version": 3
   },
   "file_extension": ".py",
   "mimetype": "text/x-python",
   "name": "python",
   "nbconvert_exporter": "python",
   "pygments_lexer": "ipython3",
   "version": "3.11.3"
  }
 },
 "nbformat": 4,
 "nbformat_minor": 2
}
